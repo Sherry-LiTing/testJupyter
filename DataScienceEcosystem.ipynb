{
 "cells": [
  {
   "cell_type": "markdown",
   "id": "e8026d08-b6b9-44ed-9513-1dd3b0693aa2",
   "metadata": {},
   "source": [
    "# Data Science Tools and Ecosystem"
   ]
  },
  {
   "cell_type": "markdown",
   "id": "dc96a10b-7717-488c-a0c2-b0e698300f45",
   "metadata": {},
   "source": [
    "<blockquote>In this notebook, Data Science Tools and Ecosystem are summarized.<blockquote>"
   ]
  },
  {
   "cell_type": "markdown",
   "id": "6c265981-e2d7-48b3-a7e4-b196692ef17f",
   "metadata": {},
   "source": [
    "Some of the popular languages that Data Scientists use are:\n",
    "<ol>\n",
    "<li>Python</li>\n",
    "<li>SQL</li>\n",
    "<li>R</li>\n",
    "</ol>\n"
   ]
  },
  {
   "cell_type": "markdown",
   "id": "8f37d188-e437-47fd-bf64-823e8f45e399",
   "metadata": {},
   "source": [
    "Some of the popular languages that Data Scientists use are:\n",
    "<ol>\n",
    "<li>NumPy</li>\n",
    "<li>Pandas</li>\n",
    "<li>Matplotlib</li>\n",
    "</ol>\n"
   ]
  },
  {
   "cell_type": "markdown",
   "id": "290088c8-4192-4224-8188-896eb834a7a2",
   "metadata": {},
   "source": [
    "| Data Science Tools |\r\n",
    "|--------------------|\r\n",
    "| Jupyter Notebook   |\r\n",
    "| RStudio            |\r\n",
    "| VS Code with Python Extension |>\r\n",
    "</tr>\r\n",
    "</table>"
   ]
  },
  {
   "cell_type": "markdown",
   "id": "05df7c8c-517a-4258-be02-bec34c2c0e0c",
   "metadata": {},
   "source": [
    "### Below are a few examples of evaluating arithmetic expressions in Python"
   ]
  },
  {
   "cell_type": "code",
   "execution_count": 5,
   "id": "79a6a7ea-56f1-45d1-b0ab-41949c8bebfd",
   "metadata": {},
   "outputs": [
    {
     "data": {
      "text/plain": [
       "17"
      ]
     },
     "execution_count": 5,
     "metadata": {},
     "output_type": "execute_result"
    }
   ],
   "source": [
    "#This a simple arithmetic expression to mutiply then add integers\n",
    "(3*4)+5"
   ]
  },
  {
   "cell_type": "code",
   "execution_count": 6,
   "id": "f81599a5-e588-4e1c-abb0-5e4ebc159587",
   "metadata": {},
   "outputs": [
    {
     "data": {
      "text/plain": [
       "3.3333333333333335"
      ]
     },
     "execution_count": 6,
     "metadata": {},
     "output_type": "execute_result"
    }
   ],
   "source": [
    "# This will convert 200 minutes to hours by dividing by 60.\n",
    "minutes = 200\n",
    "hours = minutes / 60\n",
    "hours"
   ]
  },
  {
   "cell_type": "markdown",
   "id": "11d83d34-6afd-435e-99b3-2f7795a44cd6",
   "metadata": {},
   "source": [
    "<b>Objectives:<b>\n",
    "\n",
    "- List popular languages for Data Science.\n",
    "- Identify commonly used libraries in data science.\n",
    "- Explore open-source development environment tools for data science."
   ]
  },
  {
   "cell_type": "markdown",
   "id": "d2a00c93-5d79-4bd8-96ad-c3cf88183062",
   "metadata": {},
   "source": [
    "## Author\n",
    "LI TING"
   ]
  }
 ],
 "metadata": {
  "kernelspec": {
   "display_name": "Python 3 (ipykernel)",
   "language": "python",
   "name": "python3"
  },
  "language_info": {
   "codemirror_mode": {
    "name": "ipython",
    "version": 3
   },
   "file_extension": ".py",
   "mimetype": "text/x-python",
   "name": "python",
   "nbconvert_exporter": "python",
   "pygments_lexer": "ipython3",
   "version": "3.11.8"
  }
 },
 "nbformat": 4,
 "nbformat_minor": 5
}
